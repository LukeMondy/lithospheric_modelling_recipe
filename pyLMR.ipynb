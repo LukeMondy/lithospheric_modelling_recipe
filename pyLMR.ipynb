{
 "cells": [
  {
   "cell_type": "code",
   "execution_count": null,
   "metadata": {
    "collapsed": true
   },
   "outputs": [],
   "source": [
    "import sys\n",
    "sys.path.append(\"/home/luke/Programs/uw2_dev\")"
   ]
  },
  {
   "cell_type": "code",
   "execution_count": null,
   "metadata": {
    "collapsed": false
   },
   "outputs": [],
   "source": [
    "%matplotlib inline\n",
    "\n",
    "import underworld as uw\n",
    "import glucifer.pylab as plt\n",
    "import underworld.function as fn\n",
    "import matplotlib.pyplot as mplt\n",
    "import matplotlib.pylab as pylab\n",
    "from libUnderworld import petsc\n",
    "\n",
    "from math import sin, cos\n",
    "import numpy as np"
   ]
  },
  {
   "cell_type": "markdown",
   "metadata": {},
   "source": [
    "## Create a FEM mesh: defining element resolution, domain size, etc."
   ]
  },
  {
   "cell_type": "code",
   "execution_count": null,
   "metadata": {
    "collapsed": false
   },
   "outputs": [],
   "source": [
    "dim = 2\n",
    "\n",
    "ires = 104\n",
    "jres = 48\n",
    "ires = 104*2\n",
    "jres = 48*2\n",
    "\n",
    "xmin, xmax = -200e3, 200e3\n",
    "ymin, ymax = -160e3, 15e3\n",
    "\n",
    "elementMesh = uw.mesh.FeMesh_Cartesian(elementType = 'Q1/dQ0', \n",
    "                                       elementRes = (ires, jres), \n",
    "                                       minCoord = (xmin, ymin), \n",
    "                                       maxCoord = (xmax, ymax))\n",
    "linearMesh   = elementMesh\n",
    "constantMesh = elementMesh.subMesh "
   ]
  },
  {
   "cell_type": "markdown",
   "metadata": {},
   "source": [
    "## Define mesh variables\n",
    "Notes: nodeDofCount means how many variables does this field need? Temperature is scalar, so it needs 1, velocity is vector, so it needs 2/3."
   ]
  },
  {
   "cell_type": "code",
   "execution_count": null,
   "metadata": {
    "collapsed": false
   },
   "outputs": [],
   "source": [
    "velocityField = uw.fevariable.FeVariable(feMesh = linearMesh, nodeDofCount = dim)\n",
    "pressureField = uw.fevariable.FeVariable(feMesh = constantMesh, nodeDofCount = 1)\n",
    "temperatureField = uw.fevariable.FeVariable(feMesh = linearMesh, nodeDofCount = 1)\n",
    "\n",
    "strainRateInvField = uw.fevariable.FeVariable(feMesh = linearMesh, nodeDofCount = 1)"
   ]
  },
  {
   "cell_type": "markdown",
   "metadata": {},
   "source": [
    "## Define swarm variables\n",
    "These are typically properties that you need to track through time, such as total strain or material type."
   ]
  },
  {
   "cell_type": "code",
   "execution_count": null,
   "metadata": {
    "collapsed": false
   },
   "outputs": [],
   "source": [
    "swarm = uw.swarm.Swarm(linearMesh, particleEscape = True)\n",
    "\n",
    "material_index = swarm.add_variable('char', 1)\n",
    "visc = swarm.add_variable('double', 1)\n",
    "\n",
    "# Fill the mesh with particles\n",
    "layout = uw.swarm.layouts.GlobalSpaceFillerLayout(swarm, 40)\n",
    "swarm.populate_using_layout(layout)"
   ]
  },
  {
   "cell_type": "markdown",
   "metadata": {},
   "source": [
    "## Define material shapes"
   ]
  },
  {
   "cell_type": "code",
   "execution_count": null,
   "metadata": {
    "collapsed": false
   },
   "outputs": [],
   "source": [
    "# create some misc shapes\n",
    "coord = fn.input()\n",
    "\n",
    "# create some misc shapes\n",
    "airShape = (coord[1] <= 15e3) & (coord[1] > 0.)\n",
    "upperShape = (coord[1] <= 0.) & (coord[1] > -20e3)\n",
    "lowerShape = (coord[1] <= -20e3) & (coord[1] > -40e3)\n",
    "mantleShape = (coord[1] <= -40e3) & (coord[1] >= -160e3)\n",
    "notchShape = (coord[1] <= -15e3) & (coord[1] > -20e3) & (coord[0] >= -10e3) & (coord[0] <= 10e3)\n",
    "\n",
    "airIndex = 1\n",
    "uppercrustIndex = 2\n",
    "lowercrustIndex = 3\n",
    "mantleIndex = 4\n",
    "notchIndex = 5\n",
    "\n",
    "material_index.data[:] = fn.branching.conditional(\n",
    "    [ #  Which ever condition returns True first is used (hence why notchShape is before upperShape)\n",
    "        (mantleShape, mantleIndex),\n",
    "        (lowerShape, lowercrustIndex),\n",
    "        (notchShape, notchIndex),\n",
    "        (upperShape, uppercrustIndex),\n",
    "        (airShape, airIndex),\n",
    "        (True, -1),\n",
    "    ]).evaluate(swarm)"
   ]
  },
  {
   "cell_type": "code",
   "execution_count": null,
   "metadata": {
    "collapsed": false
   },
   "outputs": [],
   "source": [
    "fig = plt.Figure()\n",
    "fig.Points(swarm, material_index, pointSize=4.0)\n",
    "fig.show()"
   ]
  },
  {
   "cell_type": "markdown",
   "metadata": {},
   "source": [
    "## Rheological Properties\n",
    "\n",
    "Setup material properties either as a dictionary with each index, or as a single value for materials to share."
   ]
  },
  {
   "cell_type": "code",
   "execution_count": null,
   "metadata": {
    "collapsed": false
   },
   "outputs": [],
   "source": [
    "# single value to be used for all materials\n",
    "thermal_exp = 5e-3\n",
    "diffusivity = 1e-6\n",
    "\n",
    "# dictionary to map out value for each material\n",
    "radiogenic_heat_map = {airIndex: 0., \n",
    "                       uppercrustIndex: 1.2e-6, \n",
    "                       notchIndex: 1.2e-5, \n",
    "                       lowercrustIndex: 0.6e-6,\n",
    "                       mantleIndex: 0.02e-6,}\n",
    "\n",
    "heat_capacity_map = {airIndex: 1000., \n",
    "                     uppercrustIndex: 1000., \n",
    "                     notchIndex: 1000., \n",
    "                     lowercrustIndex: 1000.,\n",
    "                     mantleIndex: 1000.,}\n",
    "\n",
    "density_map = {airIndex: 1., \n",
    "               uppercrustIndex: 2800., \n",
    "               notchIndex: 2800., \n",
    "               lowercrustIndex: 2900.,\n",
    "               mantleIndex: 3300.,}"
   ]
  },
  {
   "cell_type": "markdown",
   "metadata": {},
   "source": [
    "Now we map those dictionaries to each material by using the map function.\n",
    "\n",
    "If we need a special case, like in the thermal_density_func, we can use a branching conditional function to set distinct behavior"
   ]
  },
  {
   "cell_type": "code",
   "execution_count": null,
   "metadata": {
    "collapsed": false
   },
   "outputs": [],
   "source": [
    "radiogenic_heat_Fn = fn.branching.map(keyFunc = material_index, mappingDict = radiogenic_heat_map)\n",
    "\n",
    "heat_capacity_Fn = fn.branching.map(keyFunc = material_index, mappingDict = heat_capacity_map)\n",
    "\n",
    "\n",
    "\n",
    "\n",
    "densityFn = fn.branching.map(keyFunc = material_index, mappingDict = density_map)\n",
    "\n",
    "# we don't want air convecting, so it has no heat dependence.\n",
    "thermal_density_func = fn.branching.conditional([\n",
    "                         (material_index == airIndex, 1.                                                      ),  \n",
    "                         (True,                       densityFn - (thermal_exp * (temperatureField - 273.15)) ),])\n",
    "\n",
    "conductivity_Fn = fn.branching.conditional([(airShape, 10000.),  # we want the air to wick heat away as much as possible.\n",
    "                                            (True, diffusivity * thermal_density_func * heat_capacity_Fn,)])\n",
    "\n",
    "heating_Fn = radiogenic_heat_Fn# * 1e7 / (thermal_density_func * heat_capacity_Fn)"
   ]
  },
  {
   "cell_type": "markdown",
   "metadata": {},
   "source": [
    "## Initialise temperature to steady-state geotherm"
   ]
  },
  {
   "cell_type": "code",
   "execution_count": null,
   "metadata": {
    "collapsed": false
   },
   "outputs": [],
   "source": [
    "# declare which nodes are to be considered as boundary nodes\n",
    "topNodes = linearMesh.specialSets[\"MaxJ_VertexSet\"] \n",
    "bottomNodes = linearMesh.specialSets[\"MinJ_VertexSet\"]\n",
    "\n",
    "# init tempfield to 0C everywhere\n",
    "temperatureField.data[:] = 273.15\n",
    "\n",
    "# On the bottom and top of our model, set what the boundary condition will be\n",
    "temperatureField.data[topNodes.data]    = 273.15\n",
    "temperatureField.data[bottomNodes.data] = 1623.15\n",
    "\n",
    "# Now tell UW that these boundaries shouldn't be touched\n",
    "temp_BC = uw.conditions.DirichletCondition(temperatureField, topNodes + bottomNodes)"
   ]
  },
  {
   "cell_type": "code",
   "execution_count": null,
   "metadata": {
    "collapsed": false
   },
   "outputs": [],
   "source": [
    "steadyStateThermal = uw.systems.SteadyStateHeat(temperatureField, \n",
    "                                                conductivity_Fn, \n",
    "                                                heatingFn = heating_Fn,\n",
    "                                                conditions = [temp_BC,],\n",
    "                                                rtolerance = 1e-10)\n",
    "steadyStateThermal.solve(nonLinearIterate=True)"
   ]
  },
  {
   "cell_type": "markdown",
   "metadata": {},
   "source": [
    "## Display the thermal structure of the model"
   ]
  },
  {
   "cell_type": "markdown",
   "metadata": {},
   "source": [
    "Here we can use Numpy to make a nice little plot of elevation vs temp."
   ]
  },
  {
   "cell_type": "code",
   "execution_count": null,
   "metadata": {
    "collapsed": false
   },
   "outputs": [],
   "source": [
    "temp_2d = temperatureField.data.reshape((jres+1,ires+1))\n",
    "mplt.figure(figsize=(17,5))\n",
    "mplt.subplot(121)\n",
    "mplt.imshow(temp_2d, \n",
    "            origin = 'lower',\n",
    "            extent = (xmin, xmax, ymin, ymax))\n",
    "mplt.colorbar()\n",
    "\n",
    "mplt.subplot(122)\n",
    "geotherm = np.average(temp_2d, axis=1)\n",
    "geotherm_min = np.min(temp_2d, axis=1)\n",
    "geotherm_max = np.max(temp_2d, axis=1)\n",
    "depth = np.linspace(ymin, ymax, geotherm.shape[0])\n",
    "\n",
    "mplt.plot(geotherm, depth, label = \"Avg. temp\")\n",
    "mplt.fill_betweenx(depth, geotherm_min, geotherm_max, facecolor='blue', alpha=0.25)\n",
    "\n",
    "mplt.title(\"Geotherm\")\n",
    "mplt.ylabel(\"Elevation (m)\")\n",
    "mplt.xlabel(\"Temp (K)\")\n",
    "mplt.legend(loc=\"best\")"
   ]
  },
  {
   "cell_type": "markdown",
   "metadata": {},
   "source": [
    "# Mechanical properties"
   ]
  },
  {
   "cell_type": "code",
   "execution_count": null,
   "metadata": {
    "collapsed": false
   },
   "outputs": [],
   "source": [
    "# Initialise data.\n",
    "vel_init_fn_x = coord[0] / ((np.abs(xmax) - np.min(xmin))/2.) * 3.16887646e-10  # Guess that on the edges we'll be going about 1 cm/yr either direction\n",
    "vel_init_fn_y = -(coord[1] - xmin) / ((np.abs(ymax) - np.min(ymin))) * 3.16887646e-10  # Since we have no isostasy, guess that at the bottom it's zero, and it increases above\n",
    "velocityField.data[:] = np.hstack((vel_init_fn_x.evaluate(linearMesh), vel_init_fn_y.evaluate(linearMesh)))\n",
    "\n",
    "sri_Fn = fn.tensor.second_invariant( \n",
    "                fn.tensor.deviatoric(\n",
    "                    fn.tensor.symmetric ( \n",
    "                        velocityField.gradientFn )) )\n",
    "strainRateInvField.data[:] = sri_Fn.evaluate(linearMesh)\n",
    "\n",
    "velocityField.data[:] = [0,0]\n",
    "strainRateInvField.data[:] = 1e-15\n",
    "\n",
    "pseudopressure = -coord[1] * 9.81 * 3000.  # Take a guess at the pressure\n",
    "pressureField.data[:] = pseudopressure.evaluate(constantMesh)\n",
    "pressureField.data[pressureField.data <= 0.] = 1.  # Make everything > 0."
   ]
  },
  {
   "cell_type": "code",
   "execution_count": null,
   "metadata": {
    "collapsed": false
   },
   "outputs": [],
   "source": [
    "mplt.figure(figsize=(17,5))\n",
    "mplt.subplot(121)\n",
    "mplt.imshow(pressureField.data.reshape((jres,ires)), \n",
    "            origin = 'lower',\n",
    "            extent = (xmin, xmax, ymin, ymax))\n",
    "mplt.colorbar()\n",
    "\n",
    "mplt.subplot(122)\n",
    "avgpresure = np.average(pressureField.data.reshape((jres, ires)), axis=1)\n",
    "depth = np.linspace(linearMesh.minCoord[1], linearMesh.maxCoord[1], avgpresure.shape[0])\n",
    "mplt.plot(avgpresure, depth)\n",
    "\n",
    "mplt.title(\"Pressure curve\")\n",
    "mplt.ylabel(\"Elevation (m)\")\n",
    "mplt.xlabel(\"Pressure (Pa)\")"
   ]
  },
  {
   "cell_type": "code",
   "execution_count": null,
   "metadata": {
    "collapsed": false
   },
   "outputs": [],
   "source": [
    "fig_ep = plt.Figure()\n",
    "fig_ep.Surface(strainRateInvField, elementMesh, colours=['blue', 'white', 'red'])\n",
    "fig.VectorArrows( velocityField, elementMesh, lengthScale=1e15, arrowHeadSize=0.3  )\n",
    "fig_ep.show()"
   ]
  },
  {
   "cell_type": "code",
   "execution_count": null,
   "metadata": {
    "collapsed": true
   },
   "outputs": [],
   "source": [
    "# Pre-exponential factor\n",
    "A_map = {uppercrustIndex: 5e-24,         \n",
    "         notchIndex: 5e-24,\n",
    "         lowercrustIndex: 6.30957e-21,\n",
    "         mantleIndex: 1.6e-18,}\n",
    "\n",
    "# Stress exponent\n",
    "n_map = {uppercrustIndex: 3.,\n",
    "         notchIndex: 3.,\n",
    "         lowercrustIndex: 3.2,\n",
    "         mantleIndex: 3.5,}\n",
    "\n",
    "# Grainsize\n",
    "d_map = {uppercrustIndex: 0.,\n",
    "         notchIndex: 0.,\n",
    "         lowercrustIndex: 0.,\n",
    "         mantleIndex: 10000.,}\n",
    "\n",
    "# Grainsize exponent\n",
    "p_map = {uppercrustIndex: 0.,\n",
    "         notchIndex: 0.,\n",
    "         lowercrustIndex: 0.,\n",
    "         mantleIndex: 0.,}\n",
    "\n",
    "# Water fugacity\n",
    "fH20_map = {uppercrustIndex: 0.,\n",
    "            notchIndex: 0.,\n",
    "            lowercrustIndex: 0.,\n",
    "            mantleIndex: 1000.,}\n",
    "\n",
    "# Water fugacity exponent\n",
    "r_map = {uppercrustIndex: 0.,\n",
    "         notchIndex: 0.,\n",
    "         lowercrustIndex: 0.,\n",
    "         mantleIndex: 1.2,}\n",
    "\n",
    "# Activation energy\n",
    "E_map = {uppercrustIndex: 190e3,\n",
    "         notchIndex: 190e3,\n",
    "         lowercrustIndex: 244e3,\n",
    "         mantleIndex: 520e3,}\n",
    "\n",
    "# Activation volume\n",
    "V_map = {uppercrustIndex: 0.,\n",
    "         notchIndex: 0.,\n",
    "         lowercrustIndex: 0.,\n",
    "         mantleIndex: 23e-6,}\n",
    "\n",
    "R = 8.314"
   ]
  },
  {
   "cell_type": "code",
   "execution_count": null,
   "metadata": {
    "collapsed": false
   },
   "outputs": [],
   "source": [
    "A_Fn = fn.branching.map(keyFunc = material_index, mappingDict = A_map)\n",
    "n_Fn = fn.branching.map(keyFunc = material_index, mappingDict = n_map)\n",
    "d_Fn = fn.branching.map(keyFunc = material_index, mappingDict = d_map)\n",
    "p_Fn = fn.branching.map(keyFunc = material_index, mappingDict = p_map)\n",
    "fH20_Fn = fn.branching.map(keyFunc = material_index, mappingDict = fH20_map)\n",
    "r_Fn = fn.branching.map(keyFunc = material_index, mappingDict = r_map)\n",
    "E_Fn = fn.branching.map(keyFunc = material_index, mappingDict = E_map)\n",
    "V_Fn = fn.branching.map(keyFunc = material_index, mappingDict = V_map)"
   ]
  },
  {
   "cell_type": "code",
   "execution_count": null,
   "metadata": {
    "collapsed": false
   },
   "outputs": [],
   "source": [
    "non_newtonian_fn = 0.5 * fn.math.pow( A_Fn, -1. / n_Fn ) * \\\n",
    "                   fn.math.pow( strainRateInvField, (1. / n_Fn) - 1.) * \\\n",
    "                   fn.math.pow( d_Fn, p_Fn / n_Fn ) * \\\n",
    "                   fn.math.pow( fH20_Fn, -r_Fn / n_Fn ) * \\\n",
    "                   fn.math.exp( (E_Fn + pressureField * V_Fn) / (n_Fn * R * temperatureField))\n",
    "\n",
    "byerlee_fn = (0.75 * pressureField) / (2. * strainRateInvField)\n",
    "\n",
    "A = sin(0.258)\n",
    "B = 30e8 * cos(0.258)\n",
    "drucker_prager_fn = (A * pressureField + B) / (2. * strainRateInvField)"
   ]
  },
  {
   "cell_type": "code",
   "execution_count": null,
   "metadata": {
    "collapsed": false
   },
   "outputs": [],
   "source": [
    "flow_visc_law_map = {airIndex: 1e19,\n",
    "                     notchIndex: non_newtonian_fn,\n",
    "                     uppercrustIndex: non_newtonian_fn,\n",
    "                     lowercrustIndex: non_newtonian_fn,\n",
    "                     mantleIndex: non_newtonian_fn,}\n",
    "\n",
    "flow_visc_Fn = fn.branching.map(keyFunc = material_index, mappingDict = flow_visc_law_map)\n",
    "\"\"\"\n",
    "# This conditional function does NOT work, which makes me wonder why a similar function DOES work \n",
    "# for the thermal steady-state\n",
    "flow_visc_Fn = fn.branching.conditional([\n",
    "                         (material_index == airIndex, 1e18            ),\n",
    "                         (True,                       non_newtonian_fn),])\n",
    "\"\"\"\n",
    "\n",
    "brittle_visc_law_map = {airIndex: 1e19,\n",
    "                        notchIndex: non_newtonian_fn,\n",
    "                        uppercrustIndex: byerlee_fn,\n",
    "                        lowercrustIndex: byerlee_fn,\n",
    "                        mantleIndex: byerlee_fn,}\n",
    "brittle_visc_Fn = fn.branching.map(keyFunc = material_index, mappingDict = brittle_visc_law_map)\n",
    "\n",
    "visc_Fn = fn.branching.conditional([(brittle_visc_Fn <= flow_visc_Fn, brittle_visc_Fn),\n",
    "                                    (flow_visc_Fn < brittle_visc_Fn, flow_visc_Fn),\n",
    "                                    (True, 1e21)])\n",
    "\n",
    "stress_Fn = fn.tensor.deviatoric( 2. * visc_Fn * fn.tensor.symmetric( velocityField.gradientFn ))\n",
    "stress_limited_visc = uw.function.rheology.stress_limiting_viscosity(stress_Fn, 300e8, visc_Fn)"
   ]
  },
  {
   "cell_type": "code",
   "execution_count": null,
   "metadata": {
    "collapsed": false
   },
   "outputs": [],
   "source": [
    "visc.data[:] = stress_limited_visc.evaluate(swarm)"
   ]
  },
  {
   "cell_type": "code",
   "execution_count": null,
   "metadata": {
    "collapsed": false
   },
   "outputs": [],
   "source": [
    "from matplotlib.colors import LogNorm\n",
    "print np.min(visc.data), np.max(visc.data)\n",
    "mplt.figure(figsize=(20, 10))\n",
    "mplt.scatter(visc.swarm.particleCoordinates.data[:,0], \n",
    "             visc.swarm.particleCoordinates.data[:,1], \n",
    "             c = visc.data, \n",
    "             norm = LogNorm(),\n",
    "             edgecolor=\"none\",\n",
    "             s = 2)\n",
    "mplt.colorbar()\n",
    "mplt.xlim(-200e3, 200e3)\n",
    "mplt.ylim(-160e3, 15e3)\n",
    "mplt.title(\"Initial viscosity profile\")\n",
    "\"\"\"\n",
    "fig = plt.Figure()\n",
    "fig.Points(swarm, visc, pointSize=2.0)\n",
    "fig.show()\n",
    "\"\"\""
   ]
  },
  {
   "cell_type": "markdown",
   "metadata": {},
   "source": [
    "## Define the boundary conditions for stokes\n",
    "\n",
    "Here I'm selecting the entire left and right walls (except for the very top nodes), and the entire bottom wall (except for the very left and right nodes)"
   ]
  },
  {
   "cell_type": "code",
   "execution_count": null,
   "metadata": {
    "collapsed": false
   },
   "outputs": [],
   "source": [
    "left_wall = linearMesh.specialSets[\"MinI_VertexSet\"]\n",
    "#left_wall -= left_wall.data[-1:]\n",
    "\n",
    "right_wall = linearMesh.specialSets[\"MaxI_VertexSet\"]\n",
    "#right_wall -= right_wall.data[-1:]\n",
    "\n",
    "top_wall = linearMesh.specialSets[\"MaxJ_VertexSet\"]\n",
    "\n",
    "bot_wall = linearMesh.specialSets[\"MinJ_VertexSet\"]\n",
    "#bot_wall -= bot_wall.data[[0,-1]]\n",
    "\n",
    "\n",
    "# Set velocity boundary conditions:\n",
    "velocityField.data[bot_wall.data] = [0., 0.] \n",
    "velocityField.data[left_wall.data] = [-3.16887646e-10, 0.]  \n",
    "velocityField.data[right_wall.data] = [3.16887646e-10, 0.]\n",
    "#velocityField.data[top_wall.data] = [0., 0.] \n",
    "\n",
    "\n",
    "IWalls = left_wall + right_wall\n",
    "JWalls = bot_wall \n",
    "\n",
    "freeSlipBC = uw.conditions.DirichletCondition(velocityField, (IWalls, JWalls) )\n",
    "\n",
    "# Define our gravity using a python tuple (this will be automatically converted to a function)\n",
    "gravity = ( 0.0, -9.81 )\n",
    "# now create a buoyancy force vector.. the gravity tuple is converted to a function \n",
    "# here via operator overloading\n",
    "buoyancyFn = gravity * thermal_density_func\n",
    "\n",
    "# Setup a stokes system\n",
    "# For PIC style integration, we include a swarm for the a PIC integration swarm is generated within.\n",
    "# For gauss integration, simple do not include the swarm. Nearest neighbour is used where required.\n",
    "stokesPIC = uw.systems.Stokes(velocityField=velocityField, \n",
    "                              pressureField=pressureField,\n",
    "                              swarm=swarm, \n",
    "                              conditions=[freeSlipBC,],\n",
    "                              viscosityFn=fn.exception.SafeMaths(stress_limited_visc), \n",
    "                              bodyForceFn=buoyancyFn )"
   ]
  },
  {
   "cell_type": "code",
   "execution_count": null,
   "metadata": {
    "collapsed": false
   },
   "outputs": [],
   "source": [
    "\"\"\"\n",
    "solver=uw.systems.Solver(stokesPIC)\n",
    "solver.options.main.Q22_pc_type='uwscale'  # also try 'gtkg', 'gkgdiag' and 'uwscale'\n",
    "solver.options.main.penalty = 1.0\n",
    "solver.options.A11.ksp_rtol=1e-4\n",
    "solver.options.scr.ksp_rtol=1e-4\n",
    "solver.options.mg.active=False\n",
    "solver.options.A11.set_direct()\n",
    "#solver.options.scr.set_direct()\n",
    "stokesPIC.solve = solver.solve\n",
    "\n",
    "\"\"\"\n",
    "\n",
    "#solver.options.main.clear()\n",
    "#solver.options.main.ksp_type = \"preonly\"\n",
    "#solver.options.main.pc_type = \"lu\"\n",
    "#stokesPIC.solve = solver.solve\n",
    "\n",
    "petsc.OptionsClear()\n",
    "petsc.OptionsInsertString(\"-Uzawa_velSolver_pc_factor_mat_solver_package mumps \")\n",
    "petsc.OptionsInsertString(\"-Uzawa_velSolver_ksp_type preonly \")\n",
    "petsc.OptionsInsertString(\"-Uzawa_velSolver_pc_type lu \")\n",
    "petsc.OptionsInsertString(\"-Uzawa_velSolver_ksp_max_its 100 \")\n"
   ]
  },
  {
   "cell_type": "code",
   "execution_count": null,
   "metadata": {
    "collapsed": true
   },
   "outputs": [],
   "source": [
    "petsc.OptionsPrint()  # This prints to the terminal"
   ]
  },
  {
   "cell_type": "code",
   "execution_count": null,
   "metadata": {
    "collapsed": false
   },
   "outputs": [],
   "source": [
    "# Create advdiff system\n",
    "advDiff = uw.systems.AdvectionDiffusion( temperatureField, velocityField, diffusivity=1e-6, conditions=[temp_BC,] )\n",
    "\n",
    "# And the particle updating system\n",
    "advector = uw.systems.SwarmAdvector( swarm = swarm, velocityField = velocityField, order=2 )"
   ]
  },
  {
   "cell_type": "code",
   "execution_count": null,
   "metadata": {
    "collapsed": true
   },
   "outputs": [],
   "source": [
    "def visualise():\n",
    "    # Vis\n",
    "    mplt.figure(figsize=(16,8))\n",
    "    mplt.subplot(211)\n",
    "    mplt.imshow(sri_Fn.evaluate(linearMesh).reshape((jres+1, ires+1)), \n",
    "                norm = LogNorm(),\n",
    "                origin = \"lower\",\n",
    "                vmin = 1e-18,\n",
    "                vmax = 1e-13)\n",
    "    mplt.colorbar()\n",
    "    mplt.subplot(212)\n",
    "    mplt.scatter(visc.swarm.particleCoordinates.data[:,0], \n",
    "         visc.swarm.particleCoordinates.data[:,1], \n",
    "         c = visc.data, \n",
    "         norm = LogNorm(),\n",
    "         edgecolor=\"none\",\n",
    "         s = 2)\n",
    "    mplt.xlim(-200e3, 200e3)\n",
    "    mplt.ylim(-160e3, 15e3)\n",
    "    mplt.colorbar()\n",
    "    mplt.show()\n",
    "    mplt.savefig(\"step_{}-lin_{}.png\".format(step, linearIts))"
   ]
  },
  {
   "cell_type": "code",
   "execution_count": null,
   "metadata": {
    "collapsed": false,
    "scrolled": false
   },
   "outputs": [],
   "source": [
    "# Stepping. Initialise time and timestep.\n",
    "time = 0.\n",
    "step = 0\n",
    "\n",
    "prev_flatvel = np.abs(velocityField.data.reshape((-1,1)))   \n",
    "prev_visc = visc.data[:]\n",
    "\n",
    "# Perform 3 steps\n",
    "while step <= 1:\n",
    "    # Get solution for initial configuration\n",
    "    linearIts = 0\n",
    "    delta_v = 1000.\n",
    "    \n",
    "    while True:\n",
    "        if linearIts > 500:\n",
    "            break\n",
    "        if delta_v < 1e-3 and linearIts > 10:\n",
    "            break\n",
    "        \n",
    "        stokesPIC.solve(nonLinearIterate=False)\n",
    "        linearIts += 1\n",
    "        \n",
    "        # Calibrate the pressure:\n",
    "        avg_pres_along_top = np.average(pressureField.data.reshape((jres, ires))[-1,:])\n",
    "        pressureField.data[:] -= avg_pres_along_top\n",
    "        \n",
    "        # Update the SRI:\n",
    "        strainRateInvField.data[:] = sri_Fn.evaluate(linearMesh)\n",
    "        \n",
    "        # Detect if we have converged\n",
    "        flatvel = np.abs(velocityField.data.reshape((-1,1)))\n",
    "        delta_v = np.abs(np.sum(flatvel - prev_flatvel) / np.sum(prev_flatvel))\n",
    "        prev_flatvel = np.copy(flatvel)\n",
    "        \n",
    "        #delta_visc = np.abs(np.sum(visc.data[:] - prev_visc) / np.sum(prev_visc))\n",
    "        #prev_visc = np.copy(visc.data[:])\n",
    "        delta_visc = 1e2\n",
    "        \n",
    "        print \"\", delta_visc\n",
    "        print (\"\\tIt: {:04d}, residual: {: 3.3e}, P cali: {: 3.3e}, min/max visc: {: 3.3e}/{: 3.3e}\" \n",
    "               \"Visc residual: {: 3.3e}\").format(linearIts,\n",
    "                                                 delta_v,\n",
    "                                                 avg_pres_along_top,\n",
    "                                                 np.min(visc.data),\n",
    "                                                 np.max(visc.data),\n",
    "                                                 delta_visc)\n",
    "        sys.stdout.flush()\n",
    "\n",
    "    \n",
    "    dt = advDiff.get_max_dt()\n",
    "    if step == 0:\n",
    "        dt = 0.\n",
    "    # Advect using this timestep siz    \n",
    "    advDiff.integrate(dt)\n",
    "    advector.integrate(dt)\n",
    "    \n",
    "    print 'step =',step, 'time =', time, 'dt =', dt\n",
    "    # Increment\n",
    "    time += dt\n",
    "    step += 1"
   ]
  },
  {
   "cell_type": "code",
   "execution_count": null,
   "metadata": {
    "collapsed": false
   },
   "outputs": [],
   "source": [
    "fig1 = plt.Figure()\n",
    "fig1.Points( swarm=swarm, colourVariable=material_index, pointSize=2.0 )\n",
    "fig1.VectorArrows( velocityField, elementMesh, lengthScale=1e14, arrowHeadSize=0.3  )\n",
    "fig1.show()\n",
    "\n"
   ]
  },
  {
   "cell_type": "code",
   "execution_count": null,
   "metadata": {
    "collapsed": true
   },
   "outputs": [],
   "source": []
  },
  {
   "cell_type": "code",
   "execution_count": null,
   "metadata": {
    "collapsed": false
   },
   "outputs": [],
   "source": [
    "print np.max(velocityField.data, axis=0)\n",
    "mplt.figure(figsize=(16, 8))\n",
    "mplt.subplot(121)\n",
    "mplt.imshow(velocityField.data[:,0].reshape(jres+1,ires+1)[:10,:10],\n",
    "            origin='lower',\n",
    "            interpolation = \"none\")\n",
    "mplt.colorbar()\n",
    "\n",
    "mplt.subplot(122)\n",
    "mplt.imshow(velocityField.data[:,1].reshape(jres+1,ires+1)[:10,:10],\n",
    "            origin='lower',\n",
    "            interpolation = \"none\")\n",
    "mplt.colorbar()\n",
    "\n",
    "mplt.show()"
   ]
  },
  {
   "cell_type": "code",
   "execution_count": null,
   "metadata": {
    "collapsed": false
   },
   "outputs": [],
   "source": [
    "figEta = plt.Figure()\n",
    "figEta.Surface(sri_Fn, linearMesh)\n",
    "figEta.show()\n",
    "\n"
   ]
  },
  {
   "cell_type": "code",
   "execution_count": null,
   "metadata": {
    "collapsed": false
   },
   "outputs": [],
   "source": [
    "# lets take a look at the eta function\n"
   ]
  },
  {
   "cell_type": "code",
   "execution_count": null,
   "metadata": {
    "collapsed": false
   },
   "outputs": [],
   "source": [
    "figP = plt.Figure()\n",
    "figP.Surface(pressureField, constantMesh)\n",
    "figP.show()"
   ]
  },
  {
   "cell_type": "code",
   "execution_count": null,
   "metadata": {
    "collapsed": true
   },
   "outputs": [],
   "source": []
  }
 ],
 "metadata": {
  "kernelspec": {
   "display_name": "Python 2",
   "language": "python",
   "name": "python2"
  },
  "language_info": {
   "codemirror_mode": {
    "name": "ipython",
    "version": 2
   },
   "file_extension": ".py",
   "mimetype": "text/x-python",
   "name": "python",
   "nbconvert_exporter": "python",
   "pygments_lexer": "ipython2",
   "version": "2.7.10"
  }
 },
 "nbformat": 4,
 "nbformat_minor": 0
}
