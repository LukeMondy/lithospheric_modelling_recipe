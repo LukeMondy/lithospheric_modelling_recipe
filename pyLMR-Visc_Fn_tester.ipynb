{
 "cells": [
  {
   "cell_type": "code",
   "execution_count": 1,
   "metadata": {
    "collapsed": true
   },
   "outputs": [],
   "source": [
    "import sys\n",
    "sys.path.append(\"/home/luke/Programs/uw2_dev\")\n",
    "\n",
    "%matplotlib inline\n",
    "\n",
    "import underworld as uw\n",
    "import glucifer.pylab as plt\n",
    "import underworld.function as fn\n",
    "from libUnderworld import petsc\n",
    "\n",
    "from math import sin, cos\n",
    "import numpy as np\n",
    "import matplotlib.pyplot as mplt\n",
    "import matplotlib.pylab as pylab\n",
    "from matplotlib.colors import LogNorm\n",
    "import time\n",
    "\n",
    "\n",
    "dim = 2\n",
    "\n",
    "ires = 104\n",
    "jres = 48\n",
    "ires = 104*2\n",
    "jres = 48*2\n",
    "\n",
    "xmin, xmax = -200e3, 200e3\n",
    "ymin, ymax = -160e3, 15e3\n",
    "\n",
    "elementMesh = uw.mesh.FeMesh_Cartesian(elementType = 'Q1/dQ0', \n",
    "                                       elementRes = (ires, jres), \n",
    "                                       minCoord = (xmin, ymin), \n",
    "                                       maxCoord = (xmax, ymax))\n",
    "linearMesh   = elementMesh\n",
    "constantMesh = elementMesh.subMesh \n",
    "\n",
    "velocityField = uw.fevariable.FeVariable(feMesh = linearMesh, nodeDofCount = dim)\n",
    "pressureField = uw.fevariable.FeVariable(feMesh = constantMesh, nodeDofCount = 1)\n",
    "temperatureField = uw.fevariable.FeVariable(feMesh = linearMesh, nodeDofCount = 1)\n",
    "strainRateInvField = uw.fevariable.FeVariable(feMesh = linearMesh, nodeDofCount = 1)\n",
    "\n",
    "swarm = uw.swarm.Swarm(linearMesh, particleEscape = True)\n",
    "\n",
    "material_index = swarm.add_variable('char', 1)\n",
    "visc = swarm.add_variable('double', 1)\n",
    "\n",
    "# Fill the mesh with particles\n",
    "layout = uw.swarm.layouts.GlobalSpaceFillerLayout(swarm, 40)\n",
    "swarm.populate_using_layout(layout)\n",
    "\n",
    "# create some misc shapes\n",
    "coord = fn.input()\n",
    "\n",
    "# create some misc shapes\n",
    "airShape = (coord[1] <= 15e3) & (coord[1] > 0.)\n",
    "upperShape = (coord[1] <= 0.) & (coord[1] > -20e3)\n",
    "lowerShape = (coord[1] <= -20e3) & (coord[1] > -40e3)\n",
    "mantleShape = (coord[1] <= -40e3) & (coord[1] >= -160e3)\n",
    "notchShape = (coord[1] <= -15e3) & (coord[1] > -20e3) & (coord[0] >= -10e3) & (coord[0] <= 10e3)\n",
    "\n",
    "airIndex = 1\n",
    "uppercrustIndex = 2\n",
    "lowercrustIndex = 3\n",
    "mantleIndex = 4\n",
    "notchIndex = 5\n",
    "\n",
    "material_index.data[:] = fn.branching.conditional(\n",
    "    [ #  Which ever condition returns True first is used (hence why notchShape is before upperShape)\n",
    "        (mantleShape, mantleIndex),\n",
    "        (lowerShape, lowercrustIndex),\n",
    "        (notchShape, notchIndex),\n",
    "        (upperShape, uppercrustIndex),\n",
    "        (airShape, airIndex),\n",
    "        (True, -1),\n",
    "    ]).evaluate(swarm)"
   ]
  },
  {
   "cell_type": "code",
   "execution_count": 2,
   "metadata": {
    "collapsed": false
   },
   "outputs": [
    {
     "data": {
      "image/png": "[encoded data removed]",
      "text/plain": [
       "<IPython.core.display.Image object>"
      ]
     },
     "execution_count": 2,
     "metadata": {},
     "output_type": "execute_result"
    }
   ],
   "source": [
    "fig = plt.Figure()\n",
    "fig.Points(swarm, material_index, pointSize=4.0)\n",
    "fig.show()"
   ]
  },
  {
   "cell_type": "code",
   "execution_count": 3,
   "metadata": {
    "collapsed": false
   },
   "outputs": [],
   "source": [
    "# single value to be used for all materials\n",
    "thermal_exp = 5e-3\n",
    "diffusivity = 1e-6\n",
    "\n",
    "# dictionary to map out value for each material\n",
    "radiogenic_heat_map = {airIndex: 0., \n",
    "                       uppercrustIndex: 1.2e-6, \n",
    "                       notchIndex: 1.2e-5, \n",
    "                       lowercrustIndex: 0.6e-6,\n",
    "                       mantleIndex: 0.02e-6,}\n",
    "\n",
    "heat_capacity_map = {airIndex: 1000., \n",
    "                     uppercrustIndex: 1000., \n",
    "                     notchIndex: 1000., \n",
    "                     lowercrustIndex: 1000.,\n",
    "                     mantleIndex: 1000.,}\n",
    "\n",
    "density_map = {airIndex: 1., \n",
    "               uppercrustIndex: 2800., \n",
    "               notchIndex: 2800., \n",
    "               lowercrustIndex: 2900.,\n",
    "               mantleIndex: 3300.,}\n",
    "\n",
    "radiogenic_heat_Fn = fn.branching.map(keyFunc = material_index, mappingDict = radiogenic_heat_map)\n",
    "\n",
    "heat_capacity_Fn = fn.branching.map(keyFunc = material_index, mappingDict = heat_capacity_map)\n",
    "\n",
    "\n",
    "\n",
    "\n",
    "densityFn = fn.branching.map(keyFunc = material_index, mappingDict = density_map)\n",
    "\n",
    "# we don't want air convecting, so it has no heat dependence.\n",
    "thermal_density_func = fn.branching.conditional([\n",
    "                         (material_index == airIndex, 1. ),  \n",
    "                         (True, densityFn - (thermal_exp * (temperatureField - 273.15)) ),])\n",
    "\n",
    "conductivity_Fn = fn.branching.conditional([(airShape, 10000.),  # we want the air to be as \"transparent\" as much as possible.\n",
    "                                            (True, diffusivity * thermal_density_func * heat_capacity_Fn,)])\n",
    "\n",
    "heating_Fn = radiogenic_heat_Fn# * 1e7 / (thermal_density_func * heat_capacity_Fn)\n",
    "\n",
    "# declare which nodes are to be considered as boundary nodes\n",
    "topNodes = linearMesh.specialSets[\"MaxJ_VertexSet\"] \n",
    "bottomNodes = linearMesh.specialSets[\"MinJ_VertexSet\"]\n",
    "\n",
    "# init tempfield to 0C everywhere\n",
    "temperatureField.data[:] = 273.15\n",
    "\n",
    "# On the bottom and top of our model, set what the boundary condition will be\n",
    "temperatureField.data[topNodes.data]    = 273.15\n",
    "temperatureField.data[bottomNodes.data] = 1623.15\n",
    "\n",
    "# Now tell UW that these boundaries shouldn't be touched\n",
    "temp_BC = uw.conditions.DirichletCondition(temperatureField, topNodes + bottomNodes)\n",
    "\n",
    "steadyStateThermal = uw.systems.SteadyStateHeat(temperatureField, \n",
    "                                                conductivity_Fn, \n",
    "                                                heatingFn = heating_Fn,\n",
    "                                                conditions = [temp_BC,],\n",
    "                                                rtolerance = 1e-10)\n",
    "steadyStateThermal.solve(nonLinearIterate = True)"
   ]
  },
  {
   "cell_type": "code",
   "execution_count": 4,
   "metadata": {
    "collapsed": false
   },
   "outputs": [
    {
     "data": {
      "text/plain": [
       "<matplotlib.legend.Legend at 0x7f756fb21f10>"
      ]
     },
     "execution_count": 4,
     "metadata": {},
     "output_type": "execute_result"
    },
    {
     "data": {
      "image/png": "[encoded data removed]",
      "text/plain": [
       "<matplotlib.figure.Figure at 0x7f756fce2490>"
      ]
     },
     "metadata": {},
     "output_type": "display_data"
    }
   ],
   "source": [
    "temp_2d = temperatureField.data.reshape((jres+1,ires+1))\n",
    "mplt.figure(figsize=(17,5))\n",
    "mplt.subplot(121)\n",
    "mplt.imshow(temp_2d, \n",
    "            origin = 'lower',\n",
    "            extent = (xmin, xmax, ymin, ymax))\n",
    "mplt.colorbar()\n",
    "\n",
    "mplt.subplot(122)\n",
    "geotherm = np.average(temp_2d, axis=1)\n",
    "geotherm_min = np.min(temp_2d, axis=1)\n",
    "geotherm_max = np.max(temp_2d, axis=1)\n",
    "depth = np.linspace(ymin, ymax, geotherm.shape[0])\n",
    "\n",
    "mplt.plot(geotherm, depth, label = \"Avg. temp\")\n",
    "mplt.fill_betweenx(depth, geotherm_min, geotherm_max, facecolor='blue', alpha=0.25)\n",
    "\n",
    "mplt.title(\"Geotherm\")\n",
    "mplt.ylabel(\"Elevation (m)\")\n",
    "mplt.xlabel(\"Temp (K)\")\n",
    "mplt.legend(loc=\"best\")"
   ]
  },
  {
   "cell_type": "code",
   "execution_count": 5,
   "metadata": {
    "collapsed": false
   },
   "outputs": [],
   "source": [
    "# Bit of a hack - we used the notch to make a hotspot - now we undo that by giving it the same\n",
    "# properties as the upper crust.\n",
    "radiogenic_heat_map[notchIndex] = radiogenic_heat_map[uppercrustIndex]"
   ]
  },
  {
   "cell_type": "code",
   "execution_count": 6,
   "metadata": {
    "collapsed": false
   },
   "outputs": [],
   "source": [
    "# Initialise data.\n",
    "vel_init_fn_x = coord[0] / ((np.abs(xmax) - np.min(xmin))/2.) * 3.16887646e-10  # Guess that on the edges we'll be going about 1 cm/yr either direction\n",
    "vel_init_fn_y = -(coord[1] - xmin) / ((np.abs(ymax) - np.min(ymin))) * 3.16887646e-10  # Since we have no isostasy, guess that at the bottom it's zero, and it increases above\n",
    "velocityField.data[:] = np.hstack((vel_init_fn_x.evaluate(linearMesh), vel_init_fn_y.evaluate(linearMesh)))\n",
    "\n",
    "sri_Fn = fn.tensor.second_invariant( \n",
    "                fn.tensor.deviatoric(\n",
    "                    fn.tensor.symmetric ( \n",
    "                        velocityField.gradientFn )) )\n",
    "strainRateInvField.data[:] = sri_Fn.evaluate(linearMesh)\n",
    "\n",
    "velocityField.data[:] = [0,0]\n",
    "strainRateInvField.data[:] = 1e-15\n",
    "\n",
    "pseudopressure = -coord[1] * 9.81 * 3000.  # Take a guess at the pressure\n",
    "pressureField.data[:] = pseudopressure.evaluate(constantMesh)\n",
    "pressureField.data[pressureField.data <= 0.] = 1.  # Make everything > 0.\n",
    "\n",
    "# Pre-exponential factor\n",
    "A_map = {uppercrustIndex: 5e-24,         \n",
    "         notchIndex: 5e-24,\n",
    "         lowercrustIndex: 6.30957e-21,\n",
    "         mantleIndex: 1.6e-18,}\n",
    "\n",
    "# Stress exponent\n",
    "n_map = {uppercrustIndex: 3.,\n",
    "         notchIndex: 3.,\n",
    "         lowercrustIndex: 3.2,\n",
    "         mantleIndex: 3.5,}\n",
    "\n",
    "# Grainsize\n",
    "d_map = {uppercrustIndex: 0.,\n",
    "         notchIndex: 0.,\n",
    "         lowercrustIndex: 0.,\n",
    "         mantleIndex: 10000.,}\n",
    "\n",
    "# Grainsize exponent\n",
    "p_map = {uppercrustIndex: 0.,\n",
    "         notchIndex: 0.,\n",
    "         lowercrustIndex: 0.,\n",
    "         mantleIndex: 0.,}\n",
    "\n",
    "# Water fugacity\n",
    "fH20_map = {uppercrustIndex: 0.,\n",
    "            notchIndex: 0.,\n",
    "            lowercrustIndex: 0.,\n",
    "            mantleIndex: 1000.,}\n",
    "\n",
    "# Water fugacity exponent\n",
    "r_map = {uppercrustIndex: 0.,\n",
    "         notchIndex: 0.,\n",
    "         lowercrustIndex: 0.,\n",
    "         mantleIndex: 1.2,}\n",
    "\n",
    "# Activation energy\n",
    "E_map = {uppercrustIndex: 190e3,\n",
    "         notchIndex: 190e3,\n",
    "         lowercrustIndex: 244e3,\n",
    "         mantleIndex: 520e3,}\n",
    "\n",
    "# Activation volume\n",
    "V_map = {uppercrustIndex: 0.,\n",
    "         notchIndex: 0.,\n",
    "         lowercrustIndex: 0.,\n",
    "         mantleIndex: 23e-6,}\n",
    "\n",
    "R = 8.314\n",
    "\n",
    "A_Fn = fn.branching.map(keyFunc = material_index, mappingDict = A_map)\n",
    "n_Fn = fn.branching.map(keyFunc = material_index, mappingDict = n_map)\n",
    "d_Fn = fn.branching.map(keyFunc = material_index, mappingDict = d_map)\n",
    "p_Fn = fn.branching.map(keyFunc = material_index, mappingDict = p_map)\n",
    "fH20_Fn = fn.branching.map(keyFunc = material_index, mappingDict = fH20_map)\n",
    "r_Fn = fn.branching.map(keyFunc = material_index, mappingDict = r_map)\n",
    "E_Fn = fn.branching.map(keyFunc = material_index, mappingDict = E_map)\n",
    "V_Fn = fn.branching.map(keyFunc = material_index, mappingDict = V_map)"
   ]
  },
  {
   "cell_type": "code",
   "execution_count": 7,
   "metadata": {
    "collapsed": false
   },
   "outputs": [],
   "source": [
    "non_newtonian_fn = 0.5 * fn.math.pow( A_Fn, -1. / n_Fn ) * \\\n",
    "                   fn.math.pow( strainRateInvField, (1. / n_Fn) - 1.) * \\\n",
    "                   fn.math.pow( d_Fn, p_Fn / n_Fn ) * \\\n",
    "                   fn.math.pow( fH20_Fn, -r_Fn / n_Fn ) * \\\n",
    "                   fn.math.exp( (E_Fn + pressureField * V_Fn) / (n_Fn * R * temperatureField))\n",
    "\n",
    "#byerlee_fn = (0.75 * pressureField) / (2. * strainRateInvField)  # problems with pressurefield after stokes solve\n",
    "byerlee_fn = (0.75 * (pseudopressure)) / (2. * strainRateInvField)\n",
    "\n",
    "min_visc = 1e19\n",
    "\n",
    "flow_visc_law_map = {airIndex: 1e19,\n",
    "                     notchIndex: non_newtonian_fn,\n",
    "                     uppercrustIndex: non_newtonian_fn,\n",
    "                     lowercrustIndex: non_newtonian_fn,\n",
    "                     mantleIndex: non_newtonian_fn,}\n",
    "flow_visc_Fn = fn.branching.map(keyFunc = material_index, mappingDict = flow_visc_law_map)\n",
    "\"\"\"\n",
    "# This conditional function does NOT work, which makes me wonder why a similar function DOES work \n",
    "# for the thermal steady-state\n",
    "flow_visc_Fn = fn.branching.conditional([\n",
    "                         (material_index == airIndex, 1e18            ),\n",
    "                         (True,                       non_newtonian_fn),])\n",
    "\"\"\"\n",
    "\n",
    "brittle_visc_law_map = {airIndex: 1e19,\n",
    "                        notchIndex: byerlee_fn,\n",
    "                        uppercrustIndex: byerlee_fn,\n",
    "                        lowercrustIndex: byerlee_fn,\n",
    "                        mantleIndex: byerlee_fn,}\n",
    "brittle_visc_Fn = fn.branching.map(keyFunc = material_index, mappingDict = brittle_visc_law_map)"
   ]
  },
  {
   "cell_type": "code",
   "execution_count": 8,
   "metadata": {
    "collapsed": true
   },
   "outputs": [],
   "source": [
    "bench_data = {}"
   ]
  },
  {
   "cell_type": "markdown",
   "metadata": {},
   "source": [
    "# Test each visc function"
   ]
  },
  {
   "cell_type": "code",
   "execution_count": 9,
   "metadata": {
    "collapsed": false
   },
   "outputs": [],
   "source": [
    "start = time.time()\n",
    "visc.data[:] = flow_visc_Fn.evaluate(swarm)\n",
    "bench_data[\"0. Visc law\"] = time.time() - start\n",
    "\n",
    "start = time.time()\n",
    "visc.data[:] = brittle_visc_Fn.evaluate(swarm)\n",
    "bench_data[\"0. Brit law\"] = time.time() - start"
   ]
  },
  {
   "cell_type": "code",
   "execution_count": 10,
   "metadata": {
    "collapsed": false
   },
   "outputs": [
    {
     "name": "stdout",
     "output_type": "stream",
     "text": [
      "Basic non-newtonian visc-law - time elapsed: 14.4368071556 s\n",
      "Basic byerlee brittle-law - time elapsed: 3.78438687325 s\n"
     ]
    }
   ],
   "source": [
    "print \"Basic non-newtonian visc-law - time elapsed: {} s\".format(bench_data[\"0. Visc law\"])\n",
    "print \"Basic byerlee brittle-law - time elapsed: {} s\".format(bench_data[\"0. Brit law\"])"
   ]
  },
  {
   "cell_type": "markdown",
   "metadata": {},
   "source": [
    "# Version 1"
   ]
  },
  {
   "cell_type": "code",
   "execution_count": 18,
   "metadata": {
    "collapsed": true
   },
   "outputs": [],
   "source": [
    "# Choose which law to use - which one requires less energy:\n",
    "visc_law_Fn = fn.branching.conditional([ (brittle_visc_Fn <= flow_visc_Fn, brittle_visc_Fn),\n",
    "                                         (brittle_visc_Fn >  flow_visc_Fn, flow_visc_Fn),\n",
    "                                         (True, 1e21) ]) # backup!\n",
    "\n",
    "# Make sure the viscosity doesn't go too low\n",
    "visc_limited_Fn = fn.branching.conditional([ (visc_law_Fn <= min_visc, min_visc),\n",
    "                                             (visc_law_Fn >  min_visc, visc_law_Fn) ]) \n",
    "\n",
    "# Make sure the stresses stay realistic\n",
    "stress_Fn = fn.tensor.deviatoric( 2. * visc_limited_Fn * fn.tensor.symmetric( velocityField.gradientFn ))\n",
    "stress_limited_visc = uw.function.rheology.stress_limiting_viscosity(stress_Fn, 300e8, visc_limited_Fn)\n",
    "\n",
    "# Make it complain if bath maths happens\n",
    "viscosity_Fn = fn.exception.SafeMaths(stress_limited_visc)"
   ]
  },
  {
   "cell_type": "markdown",
   "metadata": {},
   "source": [
    "# Version 2"
   ]
  },
  {
   "cell_type": "code",
   "execution_count": 11,
   "metadata": {
    "collapsed": false
   },
   "outputs": [],
   "source": [
    "# Choose which law to use - which one requires less energy:\n",
    "visc_law_Fn_v2 = fn.misc.min(brittle_visc_Fn, flow_visc_Fn)\n",
    "\n",
    "# Make sure the viscosity doesn't go too low\n",
    "visc_limited_Fn_v2 = fn.misc.max(visc_law_Fn_v2, min_visc)\n",
    "\n",
    "# Make sure the stresses stay realistic\n",
    "stress_Fn_v2 = fn.tensor.deviatoric( 2. * visc_limited_Fn_v2 * fn.tensor.symmetric( velocityField.gradientFn ))\n",
    "stress_limited_visc_v2 = uw.function.rheology.stress_limiting_viscosity(stress_Fn_v2, 300e8, visc_limited_Fn_v2)\n",
    "\n",
    "# Make it complain if bath maths happens\n",
    "viscosity_Fn_v2 = fn.exception.SafeMaths(stress_limited_visc_v2)"
   ]
  },
  {
   "cell_type": "markdown",
   "metadata": {},
   "source": [
    "# Version 3"
   ]
  },
  {
   "cell_type": "code",
   "execution_count": 15,
   "metadata": {
    "collapsed": false
   },
   "outputs": [],
   "source": [
    "# Choose which law to use - which one requires less energy:\n",
    "visc_law_Fn_v3 = fn.branching.conditional([ (brittle_visc_Fn <= flow_visc_Fn, brittle_visc_Fn),\n",
    "                                            (True, flow_visc_Fn) ]) \n",
    "\n",
    "# Make sure the viscosity doesn't go too low\n",
    "visc_limited_Fn_v3 = fn.branching.conditional([ (visc_law_Fn_v3 <= min_visc, min_visc),\n",
    "                                                (True, visc_law_Fn_v3) ]) \n",
    "\n",
    "# Make sure the stresses stay realistic\n",
    "stress_Fn_v3 = fn.tensor.deviatoric( 2. * visc_limited_Fn_v3 * fn.tensor.symmetric( velocityField.gradientFn ))\n",
    "stress_limited_visc_v3 = uw.function.rheology.stress_limiting_viscosity(stress_Fn_v3, 300e8, visc_limited_Fn_v3)\n",
    "\n",
    "# Make it complain if bath maths happens\n",
    "viscosity_Fn_v3 = fn.exception.SafeMaths(stress_limited_visc_v3)"
   ]
  },
  {
   "cell_type": "markdown",
   "metadata": {},
   "source": [
    "# Testing"
   ]
  },
  {
   "cell_type": "code",
   "execution_count": 19,
   "metadata": {
    "collapsed": false
   },
   "outputs": [],
   "source": [
    "start = time.time()\n",
    "visc.data[:] = visc_law_Fn.evaluate(swarm)\n",
    "bench_data[\"1.1\"] = time.time() - start\n",
    "\n",
    "start = time.time()\n",
    "visc.data[:] = visc_limited_Fn.evaluate(swarm)\n",
    "bench_data[\"1.2\"] = time.time() - start\n",
    "\n",
    "start = time.time()\n",
    "visc.data[:] = stress_limited_visc.evaluate(swarm)\n",
    "bench_data[\"1.3\"] = time.time() - start\n",
    "\n",
    "start = time.time()\n",
    "visc.data[:] = viscosity_Fn.evaluate(swarm)\n",
    "bench_data[\"1.4\"] = time.time() - start"
   ]
  },
  {
   "cell_type": "code",
   "execution_count": 12,
   "metadata": {
    "collapsed": false
   },
   "outputs": [],
   "source": [
    "start = time.time()\n",
    "visc.data[:] = visc_law_Fn_v2.evaluate(swarm)\n",
    "bench_data[\"2.1\"] = time.time() - start\n",
    "\n",
    "start = time.time()\n",
    "visc.data[:] = visc_limited_Fn_v2.evaluate(swarm)\n",
    "bench_data[\"2.2\"] = time.time() - start\n",
    "\n",
    "start = time.time()\n",
    "visc.data[:] = stress_limited_visc_v2.evaluate(swarm)\n",
    "bench_data[\"2.3\"] = time.time() - start\n",
    "\n",
    "start = time.time()\n",
    "visc.data[:] = viscosity_Fn_v2.evaluate(swarm)\n",
    "bench_data[\"2.4\"] = time.time() - start"
   ]
  },
  {
   "cell_type": "code",
   "execution_count": 16,
   "metadata": {
    "collapsed": true
   },
   "outputs": [],
   "source": [
    "start = time.time()\n",
    "visc.data[:] = visc_law_Fn_v3.evaluate(swarm)\n",
    "bench_data[\"3.1\"] = time.time() - start\n",
    "\n",
    "start = time.time()\n",
    "visc.data[:] = visc_limited_Fn_v3.evaluate(swarm)\n",
    "bench_data[\"3.2\"] = time.time() - start\n",
    "\n",
    "start = time.time()\n",
    "visc.data[:] = stress_limited_visc_v3.evaluate(swarm)\n",
    "bench_data[\"3.3\"] = time.time() - start\n",
    "\n",
    "start = time.time()\n",
    "visc.data[:] = viscosity_Fn_v3.evaluate(swarm)\n",
    "bench_data[\"3.4\"] = time.time() - start"
   ]
  },
  {
   "cell_type": "code",
   "execution_count": 43,
   "metadata": {
    "collapsed": false
   },
   "outputs": [
    {
     "name": "stdout",
     "output_type": "stream",
     "text": [
      "Combined brittle-visc law - time elapsed: 46.8258528709 s\n",
      "Combined brittle-visc law, min limited - time elapsed: 139.634763956 s\n",
      "Combined brittle-visc law, min limited, stress limited - time elapsed: 286.500945091 s\n",
      "Combined brittle-visc law, min limited, stress limited, safe maths - time elapsed: 285.274792194 s\n",
      "\n",
      "Combined brittle-visc law v2 - time elapsed: 18.5005230904 s\n",
      "Combined brittle-visc law, min limited v2 - time elapsed: 19.1375980377 s\n",
      "Combined brittle-visc law, min limited, stress limited v2 - time elapsed: 42.8818640709 s\n",
      "Combined brittle-visc law, min limited, stress limited, safe maths v2 - time elapsed: 42.9476718903 s\n",
      "\n",
      "Combined brittle-visc law v3 - time elapsed: 30.855848074 s\n",
      "Combined brittle-visc law, min limited v3 - time elapsed: 62.9309539795 s\n",
      "Combined brittle-visc law, min limited, stress limited v3 - time elapsed: 131.529258013 s\n",
      "Combined brittle-visc law, min limited, stress limited, safe maths v3 - time elapsed: 132.387403011 s\n"
     ]
    }
   ],
   "source": [
    "print \"Combined brittle-visc law - time elapsed: {} s\".format(bench_data[\"1.1\"])\n",
    "print \"Combined brittle-visc law, min limited - time elapsed: {} s\".format(bench_data[\"1.2\"])\n",
    "print \"Combined brittle-visc law, min limited, stress limited - time elapsed: {} s\".format(bench_data[\"1.3\"])\n",
    "print \"Combined brittle-visc law, min limited, stress limited, safe maths - time elapsed: {} s\".format(bench_data[\"1.4\"])\n",
    "print \n",
    "print \"Combined brittle-visc law v2 - time elapsed: {} s\".format(bench_data[\"2.1\"])\n",
    "print \"Combined brittle-visc law, min limited v2 - time elapsed: {} s\".format(bench_data[\"2.2\"])\n",
    "print \"Combined brittle-visc law, min limited, stress limited v2 - time elapsed: {} s\".format(bench_data[\"2.3\"])\n",
    "print \"Combined brittle-visc law, min limited, stress limited, safe maths v2 - time elapsed: {} s\".format(bench_data[\"2.4\"])\n",
    "print \n",
    "print \"Combined brittle-visc law v3 - time elapsed: {} s\".format(bench_data[\"3.1\"])\n",
    "print \"Combined brittle-visc law, min limited v3 - time elapsed: {} s\".format(bench_data[\"3.2\"])\n",
    "print \"Combined brittle-visc law, min limited, stress limited v3 - time elapsed: {} s\".format(bench_data[\"3.3\"])\n",
    "print \"Combined brittle-visc law, min limited, stress limited, safe maths v3 - time elapsed: {} s\".format(bench_data[\"3.4\"])"
   ]
  },
  {
   "cell_type": "code",
   "execution_count": 44,
   "metadata": {
    "collapsed": false
   },
   "outputs": [
    {
     "data": {
      "image/png": "[encoded data removed]",
      "text/plain": [
       "<matplotlib.figure.Figure at 0x7f756f3fff10>"
      ]
     },
     "metadata": {},
     "output_type": "display_data"
    }
   ],
   "source": [
    "N = 4\n",
    "ind = np.arange(N)  # the x locations for the groups\n",
    "width = 0.3       # the width of the bars\n",
    "fig, ax = mplt.subplots(figsize=(15,10))\n",
    "colours = ['b', 'r', 'g']\n",
    "for i in range(1,4):\n",
    "    times = [value for key, value in sorted(bench_data.iteritems(), key = lambda x: x[0]) if key.startswith(str(i))]\n",
    "    rects = ax.bar(ind + ((i-1) * width), times, width, color=colours[i-1], label = \"V{}\".format(i))\n",
    "\n",
    "ax.set_ylabel('Time taken (s)')\n",
    "ax.set_title('Viscosity function benchmarks')\n",
    "ax.set_xticks(ind+width)\n",
    "ax.set_xticklabels( ('Combined brittle-visc law', \n",
    "                     'Combined brittle-visc law,\\nmin limited', \n",
    "                     'Combined brittle-visc law,\\nmin limited, stress limited', \n",
    "                     'Combined brittle-visc law,\\nmin limited, stress limited,\\nsafe maths',));\n",
    "ax.legend();"
   ]
  },
  {
   "cell_type": "code",
   "execution_count": null,
   "metadata": {
    "collapsed": true
   },
   "outputs": [],
   "source": []
  }
 ],
 "metadata": {
  "kernelspec": {
   "display_name": "Python 2",
   "language": "python",
   "name": "python2"
  },
  "language_info": {
   "codemirror_mode": {
    "name": "ipython",
    "version": 2
   },
   "file_extension": ".py",
   "mimetype": "text/x-python",
   "name": "python",
   "nbconvert_exporter": "python",
   "pygments_lexer": "ipython2",
   "version": "2.7.10"
  }
 },
 "nbformat": 4,
 "nbformat_minor": 0
}
